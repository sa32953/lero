{
 "cells": [
  {
   "cell_type": "markdown",
   "metadata": {},
   "source": [
    "# Support Vector Machine :  Problem 1\n",
    "## SVM with SCIKIT"
   ]
  },
  {
   "cell_type": "markdown",
   "metadata": {},
   "source": [
    "## Disclaimer\n",
    "These exercises are based on the Stanford Machine Learning Course [CS229](http://cs229.stanford.edu) of Andrew Ng. The environment of the exercise have been tuned to the theory content taught at Ravensburg Weingarten University.\n",
    "\n",
    "We are using the Python programming language. If you don't know Python or if you would like to refresh your memory, take a look at the [Python tutorial](http://docs.python.org/tut/).\n",
    "We will mostly work with NumPy, the fundamental package for scientific computing in Python. Please read the [NumPy quickstart tutorial](https://numpy.org/devdocs/user/quickstart.html). In addition, the documention of MatPlotLib and Scipy lib can be found here: .[MatplotLib](https://matplotlib.org/). [Scipy](https://docs.scipy.org/doc/scipy/reference/tutorial/)."
   ]
  },
  {
   "cell_type": "markdown",
   "metadata": {},
   "source": [
    "### Dataset : \n",
    "\n",
    "In the first half of this exercise, you will be using support vector machines\n",
    "(SVMs) with example of linearly seperable 2D datasets. Experimenting with these datasets\n",
    "will help you gain an intuition of how SVMs work. In the second half, you will be using a non-linear 2D dataset and how to use a Gaussian\n",
    "kernel with SVMs.\n",
    "\n",
    "### 1.A Visualize the linear separable dataset\n",
    "\n",
    "We will begin by with a 2D example dataset which can be separated by a\n",
    "linear boundary. In this dataset, the positions of the positive examples (indicated with +) and the\n",
    "negative examples (indicated with o) suggest a natural separation indicated by the gap. However, notice that there is an outlier positive example + on the far left at about (0.1, 4.1). As part of this exercise, you will also see how this outlier affects the SVM decision boundary."
   ]
  },
  {
   "cell_type": "code",
   "execution_count": 125,
   "metadata": {},
   "outputs": [],
   "source": [
    "# Used for manipulating directory paths\n",
    "import os\n",
    "\n",
    "# Scientific and vector computation for python\n",
    "import numpy as np\n",
    "\n",
    "# Plotting library\n",
    "import matplotlib.pyplot as plt\n",
    "\n",
    "# Optimization module in scipy\n",
    "from scipy import optimize\n",
    "\n",
    "# will be used to load MATLAB mat datafile format\n",
    "from scipy.io import loadmat\n",
    "\n",
    "# for plotting grayscale\n",
    "from PIL import Image\n",
    "\n",
    "# Dataframe management\n",
    "import pandas as pd"
   ]
  },
  {
   "cell_type": "code",
   "execution_count": 126,
   "metadata": {},
   "outputs": [
    {
     "name": "stdout",
     "output_type": "stream",
     "text": [
      "There are total of 51 points in dataset\n"
     ]
    }
   ],
   "source": [
    "# Load the linear data\n",
    "df = pd.read_csv('./data/ex6data1.csv')\n",
    "\n",
    "# Extract the data present in frame heads\n",
    "X = df[['x','y']].values \n",
    "y = df['label'].values\n",
    "\n",
    "m = y.size\n",
    "\n",
    "print('There are total of {} points in dataset'.format(m))"
   ]
  },
  {
   "cell_type": "markdown",
   "metadata": {},
   "source": [
    "Plotting is done using a python library 'matplotlib'. See documention of the library at https://matplotlib.org/"
   ]
  },
  {
   "cell_type": "code",
   "execution_count": 127,
   "metadata": {},
   "outputs": [],
   "source": [
    "def plot(X,y):\n",
    "\n",
    "    # Find Indices of Positive and Negative Examples, to visualize separately\n",
    "    pos = y == 1\n",
    "    neg = y == -1\n",
    "    \n",
    "    # Plot example\n",
    "    plt.plot(X[pos, 0], X[pos, 1], '+', mfc='b',ms=10)\n",
    "    plt.plot(X[neg, 0], X[neg, 1], 'ko', mfc='g', ms=8)\n",
    "    plt.grid(b=None, which='major', axis='both')\n",
    "    plt.legend(['Pos', 'Neg'])\n",
    "    plt.title('Class Plot')\n",
    "    plt.xlabel('x')\n",
    "    plt.ylabel('y')\n",
    "    "
   ]
  },
  {
   "cell_type": "code",
   "execution_count": 124,
   "metadata": {},
   "outputs": [
    {
     "data": {
      "image/png": "[encoded data removed]",
      "text/plain": [
       "<Figure size 432x288 with 1 Axes>"
      ]
     },
     "metadata": {
      "needs_background": "light"
     },
     "output_type": "display_data"
    }
   ],
   "source": [
    "plot(X,y)"
   ]
  },
  {
   "cell_type": "markdown",
   "metadata": {},
   "source": [
    "### 1.B SVM theory and implementation"
   ]
  },
  {
   "cell_type": "markdown",
   "metadata": {},
   "source": [
    "The support vector machine solves a constrained optimization problem to find this optimal hyperplane. Given to us the two classes that coulb be separated by a hyperplane. There may exist multiple hyperplanes diving the classes. \n",
    "\n",
    "**But which one is the best ?**\n",
    "\n",
    "The optimum hyperplane would be the one evenly distributed wrt the margin between the two classes. Let us try to understand this with below shown image.\n",
    "\n",
    "<img src='./graphic/1.png' width='650' height='650'>\n",
    "\n",
    "Here, the solid line is the hyperplane. The two dashed lines are marked the closest point(s) of each given class. The margin on side side can be denoted as: \n",
    "\n",
    "$$\n",
    "\\begin{align}\n",
    "margin = \\frac{w^T}{\\lVert w \\rVert} (x_j - x_i)\n",
    "\\end{align}\n",
    "$$\n",
    "\n",
    "In other words this can be written as: $$margin=\\frac{2}{\\lVert w \\rVert}$$\n",
    "\n",
    "The objective is here to maximize this margin.\n",
    "This problem can be moulded and can be written in form of a minimization optimization problem:\n",
    "\n",
    "$$\n",
    "\\begin{align}\n",
    "\\min_{w,b}\\quad & \\lVert w \\rVert^2  \\\\\n",
    "\\text{s.t.}\\quad & y_i(w^Tx_i + b) \\geq 1\\\\\n",
    "\\end{align}\n",
    "$$\n",
    "\n",
    "This can be easily solved with the Scikit library. The constrained optimization problem can be combined and written as **Dual Optimization problem**. One could refer to the theory part to get clear about problems' solution. \n",
    "\n"
   ]
  },
  {
   "cell_type": "code",
   "execution_count": 128,
   "metadata": {},
   "outputs": [],
   "source": [
    "from sklearn import svm\n",
    "\n",
    "#Create a svm Classifier\n",
    "\n",
    "clf = svm.SVC(kernel='linear') # Linear Kernel"
   ]
  },
  {
   "cell_type": "markdown",
   "metadata": {},
   "source": [
    "### Hint: You may want to look up into https://scikit-learn.org/stable/modules/generated/sklearn.svm.SVC.html"
   ]
  },
  {
   "cell_type": "code",
   "execution_count": 129,
   "metadata": {},
   "outputs": [],
   "source": [
    "solve = clf.fit(X, y)"
   ]
  },
  {
   "cell_type": "code",
   "execution_count": 140,
   "metadata": {},
   "outputs": [
    {
     "name": "stdout",
     "output_type": "stream",
     "text": [
      "Learned weigt vector = [1.40718563 2.13398052]\n",
      "Bias-Coefficient = -10.3488977799\n"
     ]
    }
   ],
   "source": [
    "# Get weight from solution\n",
    "\n",
    "w = clf.coef_[0]\n",
    "print('Learned weigt vector = {}'.format(w))\n",
    "\n",
    "b= clf.intercept_[0]\n",
    "print('Bias-Coefficient = {}'.format(b))"
   ]
  },
  {
   "cell_type": "markdown",
   "metadata": {},
   "source": [
    "To define a classification line, we consider that the probabilty of the Output Class (y) of a given Input Point (X') is 1/2. We say that Class of a given data point is determined by \n",
    "\n",
    "$$y* = sign(kernel(X'))$$. \n",
    "\n",
    "With this consideration we can say that equation of line can be determined by follwing:\n",
    "\n",
    "$$kernel(X') = 0$$ \n",
    "\n",
    "Expanding the above equation we get:\n",
    "\n",
    "$$\n",
    "w_0* (x) + w_1* (y) + b = 0\n",
    "$$\n",
    "\n",
    "Since we already identitifed the **max** and **min** points two plot the line, we can compute the y-axis co-ordinate by following equation:\n",
    "\n",
    "$$\n",
    "y = \\frac{-(w_0x + b)}{w_1} \n",
    "$$"
   ]
  },
  {
   "cell_type": "code",
   "execution_count": 141,
   "metadata": {},
   "outputs": [],
   "source": [
    "# Set up two points that can be used to plot a line\n",
    "x_min, x_max = min(X[:, 0]), max(X[:, 0])\n",
    "plot_x = np.array([x_min, x_max])\n",
    "\n",
    "# Compute the other axis value based on learned weights\n",
    "plot_y = -(w[0] * plot_x + b)/w[1]"
   ]
  },
  {
   "cell_type": "code",
   "execution_count": 142,
   "metadata": {},
   "outputs": [
    {
     "data": {
      "text/plain": [
       "[<matplotlib.lines.Line2D at 0x7fe835a74850>]"
      ]
     },
     "execution_count": 142,
     "metadata": {},
     "output_type": "execute_result"
    },
    {
     "data": {
      "image/png": "[encoded data removed]",
      "text/plain": [
       "<Figure size 432x288 with 1 Axes>"
      ]
     },
     "metadata": {
      "needs_background": "light"
     },
     "output_type": "display_data"
    }
   ],
   "source": [
    "plot(X,y)\n",
    "plt.plot(plot_x, plot_y, '-b')"
   ]
  },
  {
   "cell_type": "markdown",
   "metadata": {},
   "source": [
    "### 1.C Non- Linear Dataset\n",
    "\n",
    "This part of the notebook uses a Non-Linear dataset for SVM problem. The Scikit library offers a set of datasets as toy problems which can be used to implement various concepts. If this sounds interesting to you then feel free to look here what's on offer : https://scikit-learn.org/stable/datasets/index.html "
   ]
  },
  {
   "cell_type": "code",
   "execution_count": 143,
   "metadata": {},
   "outputs": [],
   "source": [
    "from sklearn import datasets\n",
    "circle_X, circle_y = datasets.make_circles(n_samples=300, noise=0.075)\n",
    "\n",
    "def plot_circle(circle_X, circle_y):\n",
    "    \n",
    "    # show raw non-linear data\n",
    "    plt.scatter(circle_X[:, 0], circle_X[:, 1], c=circle_y, marker='+')\n",
    "    plt.grid(b=None, which='major', axis='both')\n",
    "    plt.title('Class Plot')\n",
    "    plt.xlabel('x1')\n",
    "    plt.ylabel('x2')\n",
    "    plt.show()"
   ]
  },
  {
   "cell_type": "code",
   "execution_count": 144,
   "metadata": {},
   "outputs": [
    {
     "data": {
      "image/png": "[encoded data removed]",
      "text/plain": [
       "<Figure size 432x288 with 1 Axes>"
      ]
     },
     "metadata": {
      "needs_background": "light"
     },
     "output_type": "display_data"
    }
   ],
   "source": [
    "plot_circle(circle_X, circle_y)"
   ]
  },
  {
   "cell_type": "markdown",
   "metadata": {},
   "source": [
    "### Kernels: \n",
    "\n",
    "Kernels are set of mathematical algorithm functions that are used in SVMs. Their job is to take the input data and transform it into a required form (can be incorporated well in the Optimization Equation). \n",
    "\n",
    "We saw above the **Linear Kernel**.\n",
    "\n",
    "Linear kernel functions (or the dot product) are faster than most of the others and you have fewer parameters to optimize. Here's the function that defines the linear kernel:\n",
    "\n",
    "$$\n",
    "\\phi(x)=w^TX+b\n",
    "$$\n",
    "\n",
    "Here in this equation, w is the weight vector that you want to minimize, X is the data that you're trying to classify, and b is the linear coefficient estimated from the training data.\n",
    "\n",
    "**Using the same Kernel for a non-linear dataset as above doesn't make much sense. There are few more options..**\n",
    "\n",
    "such as Polynomial Kernel, Sigmoid Kernel, Gaussian Radial Basis Function Kernel (known as RBF).\n",
    "\n",
    "$$\n",
    "RBF = k(x,y) = exp(-\\gamma \\lVert x_j-x_i \\rVert^2)\n",
    "$$\n",
    "\n",
    "It is a general-purpose kernel; used when there is no prior knowledge about the data. Don't confuse it with the **Gaussian Kernel**. We will be working with that in the next problem.\n",
    "\n"
   ]
  },
  {
   "cell_type": "code",
   "execution_count": 145,
   "metadata": {},
   "outputs": [],
   "source": [
    "# make non-linear algorithm for model\n",
    "nonlinear_clf = svm.SVC(kernel='rbf', C=1.0)"
   ]
  },
  {
   "cell_type": "code",
   "execution_count": 146,
   "metadata": {},
   "outputs": [
    {
     "data": {
      "text/plain": [
       "SVC(C=1.0, cache_size=200, class_weight=None, coef0=0.0,\n",
       "  decision_function_shape='ovr', degree=3, gamma='auto', kernel='rbf',\n",
       "  max_iter=-1, probability=False, random_state=None, shrinking=True,\n",
       "  tol=0.001, verbose=False)"
      ]
     },
     "execution_count": 146,
     "metadata": {},
     "output_type": "execute_result"
    }
   ],
   "source": [
    "# training non-linear model\n",
    "nonlinear_clf.fit(circle_X, circle_y)"
   ]
  },
  {
   "cell_type": "code",
   "execution_count": 147,
   "metadata": {},
   "outputs": [],
   "source": [
    "# Plot the decision boundary for a non-linear SVM problem\n",
    "def plot_decision(model, points):\n",
    "    \n",
    "    # find min and max\n",
    "    x1lim = np.array([min(points[:, 0]), max(points[:, 0])])\n",
    "    x2lim = np.array([min(points[:, 1]), max(points[:, 1])])\n",
    "    \n",
    "    # create grid to evaluate model\n",
    "    x1 = np.linspace(x1lim[0], x1lim[1], 50)\n",
    "    x2 = np.linspace(x2lim[0], x2lim[1], 50)\n",
    "    Y, X = np.meshgrid(x2, x1)\n",
    "\n",
    "    # shape data in x1,x2 points\n",
    "    xy = np.transpose(np.vstack([X.ravel(), Y.ravel()]))\n",
    "    \n",
    "    # compute the decision boundary based on the learned model\n",
    "    P = model.decision_function(xy).reshape(X.shape)\n",
    "    \n",
    "    # plot\n",
    "    plt.contour(X, Y, P, levels=[0,0.1], alpha=0.5, linestyles=['-'])\n",
    "    "
   ]
  },
  {
   "cell_type": "code",
   "execution_count": 148,
   "metadata": {},
   "outputs": [
    {
     "data": {
      "image/png": "[encoded data removed]",
      "text/plain": [
       "<Figure size 432x288 with 1 Axes>"
      ]
     },
     "metadata": {
      "needs_background": "light"
     },
     "output_type": "display_data"
    }
   ],
   "source": [
    "plot_decision(nonlinear_clf, circle_X)\n",
    "plot_circle(circle_X, circle_y)"
   ]
  },
  {
   "cell_type": "markdown",
   "metadata": {},
   "source": [
    "# What can you do to further contribute in this notebook ?\n",
    "\n",
    "1. Try the SVM fitting with different kernels and different values of C.\n",
    "2. Try to find the accuracy of learned model. (Hint: You can do that by Cross Validtion using sklearn modules)"
   ]
  },
  {
   "cell_type": "code",
   "execution_count": null,
   "metadata": {},
   "outputs": [],
   "source": []
  }
 ],
 "metadata": {
  "kernelspec": {
   "display_name": "Python 2",
   "language": "python",
   "name": "python2"
  },
  "language_info": {
   "codemirror_mode": {
    "name": "ipython",
    "version": 2
   },
   "file_extension": ".py",
   "mimetype": "text/x-python",
   "name": "python",
   "nbconvert_exporter": "python",
   "pygments_lexer": "ipython2",
   "version": "2.7.17"
  }
 },
 "nbformat": 4,
 "nbformat_minor": 2
}
